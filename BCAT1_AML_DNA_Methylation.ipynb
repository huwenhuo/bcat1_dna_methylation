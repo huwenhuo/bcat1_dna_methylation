{
 "cells": [
  {
   "cell_type": "code",
   "execution_count": null,
   "id": "15cd9c86-37fe-40e2-a508-d68234589a25",
   "metadata": {},
   "outputs": [],
   "source": []
  }
 ],
 "metadata": {
  "kernelspec": {
   "display_name": "jan25R",
   "language": "R",
   "name": "jan25r"
  },
  "language_info": {
   "codemirror_mode": "r",
   "file_extension": ".r",
   "mimetype": "text/x-r-source",
   "name": "R",
   "pygments_lexer": "r",
   "version": "4.4.1"
  }
 },
 "nbformat": 4,
 "nbformat_minor": 5
}
