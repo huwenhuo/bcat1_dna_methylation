{
 "cells": [
  {
   "cell_type": "markdown",
   "id": "83128dc5-6f60-45ae-a73b-f1c8318d797d",
   "metadata": {},
   "source": [
    "# import packages"
   ]
  },
  {
   "cell_type": "code",
   "execution_count": null,
   "id": "827250d7-3752-4796-bdd6-44960adf866b",
   "metadata": {},
   "outputs": [],
   "source": [
    "library(DESeq2)\n",
    "library(data.table)\n",
    "library(dplyr)\n",
    "library(survival)\n",
    "library(survminer)\n",
    "library(clusterProfiler)\n",
    "library(AnnotationDbi)\n",
    "library(XML)\n",
    "library(org.Hs.eg.db)\n",
    "library(ggplot2)\n",
    "library(gridExtra)\n",
    "library(IRdisplay)\n",
    "library(pbapply)\n",
    "library(ChIPpeakAnno)\n",
    "library(sva)\n",
    "library(TCGAbiolinks) \n",
    "library(IRdisplay)\n",
    "library(ggpubr)\n",
    "library(DiffBind)\n",
    "library(kableExtra)\n",
    "library(tidyverse)\n",
    "library(clusterProfiler)\n",
    "library(enrichplot)\n",
    "library(readxl)\n",
    "library(corrplot)\n",
    "library(ggrepel)\n",
    "library(msigdbr)\n",
    "library(ggraph)\n",
    "library(tidygraph)\n",
    "library(fgsea)\n",
    "library(ggvenn)\n",
    "library(ComplexHeatmap)\n",
    "library(ggVennDiagram)\n",
    "library(venneuler)\n",
    "library(sva)\n",
    "library(DT)\n",
    "library(tools)\n",
    "library(RSQLite)\n",
    "library(rstatix)\n",
    "\n",
    "library(edgeR)\n",
    "\n",
    "#txdb <- TxDb.Hsapiens.UCSC.hg38.knownGene\n",
    "\n",
    "options(width = 188)\n",
    "\n",
    "base_dir = '/research_jude/rgs01_jude/groups/jxugrp/home/common/Lab_Members/WenhuoHu/collab_JinWang/bcat/'\n",
    "source('~/script/utils.r')\n",
    "setwd(base_dir)\n",
    "\n",
    "path = '/usr/NX/bin:/cm/local/apps/environment-modules/4.5.3//bin:/hpcf/lsf/lsf_prod/10.1/linux3.10-glibc2.17-x86_64/etc:/hpcf/lsf/lsf_prod/10.1/linux3.10-glibc2.17-x86_64/bin:/usr/lpp/mmfs/bin:/usr/lpp/mmfs/lib:/usr/local/bin:/usr/bin:/usr/local/sbin:/usr/sbin:/sbin:/usr/sbin:/cm/local/apps/environment-modules/4.5.3/bin:/usr/sbin:/sbin:/bin:/usr/bin:/etc:/usr/ucb:/usr/local/bin:/usr/local/local_dfs/bin:/usr/bin/X11:/usr/local/sas:/home/whu78/edirect:/home/whu78/.local/bin:/home/whu78/bin'\n",
    "path = paste0(Sys.getenv('PATH'), ':', path)\n",
    "Sys.setenv(PATH = path)\n"
   ]
  },
  {
   "cell_type": "code",
   "execution_count": null,
   "id": "94ce3ceb-374a-4066-985a-403e89aef94c",
   "metadata": {},
   "outputs": [],
   "source": [
    "# "
   ]
  }
 ],
 "metadata": {
  "kernelspec": {
   "display_name": "jan25R",
   "language": "R",
   "name": "jan25r"
  },
  "language_info": {
   "codemirror_mode": "r",
   "file_extension": ".r",
   "mimetype": "text/x-r-source",
   "name": "R",
   "pygments_lexer": "r",
   "version": "4.4.1"
  }
 },
 "nbformat": 4,
 "nbformat_minor": 5
}
