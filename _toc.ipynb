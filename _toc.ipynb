{
 "cells": [
  {
   "cell_type": "markdown",
   "id": "49851c3b-bfe9-4a2e-96ce-115c963a9588",
   "metadata": {},
   "source": [
    "# [BCAT1 expression association with AML patient survival](notebook/BCAT1_association_survival.ipynb)"
   ]
  },
  {
   "cell_type": "markdown",
   "id": "8f993c95-63e4-47ce-971e-d37856c92471",
   "metadata": {},
   "source": [
    "# [BCAT1 expression association with DNA methylation in TCGA](notebook/BCAT1_AML_DNA_Methylation_v2.ipynb)"
   ]
  },
  {
   "cell_type": "markdown",
   "id": "b1f634c1-6280-4751-bcc1-bedc95906d8a",
   "metadata": {},
   "source": [
    "# [Gene expression and DNA methylation changes in K562 cells with BCAT1 genetic alteration](notebook/BCAT1_in_K562_cell_v2.ipynb)\n"
   ]
  },
  {
   "cell_type": "markdown",
   "id": "c66fafc5-83ab-463b-8479-cf39fe29f2b0",
   "metadata": {},
   "source": [
    "# [Hematopoietic stem cell gene expression changes association with BCAT1 alterations](notebook/BCAT1_mouse_Bonemarrow_cell.ipynb)\n"
   ]
  },
  {
   "cell_type": "code",
   "execution_count": null,
   "id": "4a4c157d-4139-4bbd-8d13-86023b40d912",
   "metadata": {},
   "outputs": [],
   "source": []
  },
  {
   "cell_type": "code",
   "execution_count": null,
   "id": "18cd571e-e47d-42d9-a7dc-32b9ed236b44",
   "metadata": {},
   "outputs": [],
   "source": []
  }
 ],
 "metadata": {
  "kernelspec": {
   "display_name": "jan25R",
   "language": "R",
   "name": "jan25r"
  },
  "language_info": {
   "codemirror_mode": "r",
   "file_extension": ".r",
   "mimetype": "text/x-r-source",
   "name": "R",
   "pygments_lexer": "r",
   "version": "4.4.1"
  }
 },
 "nbformat": 4,
 "nbformat_minor": 5
}
