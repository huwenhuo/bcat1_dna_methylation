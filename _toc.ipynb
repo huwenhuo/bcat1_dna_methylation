{
 "cells": [
  {
   "cell_type": "markdown",
   "id": "91dd0464-9ace-4fa7-bf82-3ace09922273",
   "metadata": {},
   "source": [
    "# [The Role of Bcat1 Gene Expression in Regulating DNA Methylation and Hematopoietic Stem Cell and Leukemia Models](notebook/nb_methylation_v3.ipynb)"
   ]
  },
  {
   "cell_type": "markdown",
   "id": "4ebb0bea-6f50-4c71-9f53-5fc855146f50",
   "metadata": {},
   "source": [
    "- Performed bulk RNA-Seq and DNA methylation array analysis.\n",
    "- Analyzed FLT3-ITD leukemic models, including WT, BCAT1 overexpression (OE), and BCAT1 mitochondrial variant OE.\n",
    "- Examined stem cell populations (LSK or Kit⁺ cells) with altered BCAT1 expression.\n",
    "- Investigated BCAT1 expression changes in in vitro cultured stem cells.\n"
   ]
  },
  {
   "cell_type": "markdown",
   "id": "c91d467c-ac04-46aa-ad14-400b92c5bcc3",
   "metadata": {},
   "source": [
    "# [The Role of Bcat1 Gene Expression in Regulating DNA Methylation in K562 cells](notebook/nb_methylation_v2.ipynb)\n",
    "\n"
   ]
  },
  {
   "cell_type": "markdown",
   "id": "5a21f8cd-bf22-4980-801a-0469d200faff",
   "metadata": {},
   "source": [
    "- Performed bulk RNA-Seq and DNA methylation array analysis.\n",
    "- samples included \n",
    "    - K562 wild type cells \n",
    "    - BCAT1/2 double knockout (DKO)\n",
    "    - DKO with expression of BCAT1\n",
    "    - DKO with expression of BCAT1 mitochondrial form\n",
    "    - DKO with expression of BCAT1SxxS form\n",
    "    - DKO with expression of BCAT1K222A form\n"
   ]
  },
  {
   "cell_type": "markdown",
   "id": "10b0b58c-b481-4b88-b659-45a664ff0c13",
   "metadata": {},
   "source": [
    "# [BCAT1 funcions in regulating DNA methylation and gene expression in TCGA AML](notebook/nb_meth_DME.ipynb)"
   ]
  },
  {
   "cell_type": "markdown",
   "id": "8ecc2a69-cb38-49d3-99d9-e028fa8415a2",
   "metadata": {},
   "source": [
    "# [BCAT1 expression and patient survival in TCGA AML, BEAT-AML,and TARGET cohorts](noebook/nb_bcat_3gene_expression_survival.ipynb)"
   ]
  },
  {
   "cell_type": "markdown",
   "id": "28b1a5ac-e465-4a66-8ce5-ce420b177e35",
   "metadata": {},
   "source": [
    "# [BCAT1/2 expression and patient survival in ECOG1900](notebook/nb_bcat_ecog_2024May10.ipynb)"
   ]
  },
  {
   "cell_type": "code",
   "execution_count": null,
   "id": "34226285-af7a-43ce-ba32-11287cb01b3d",
   "metadata": {},
   "outputs": [],
   "source": []
  }
 ],
 "metadata": {
  "kernelspec": {
   "display_name": "mar25R",
   "language": "R",
   "name": "mar25r"
  },
  "language_info": {
   "codemirror_mode": "r",
   "file_extension": ".r",
   "mimetype": "text/x-r-source",
   "name": "R",
   "pygments_lexer": "r",
   "version": "4.3.3"
  }
 },
 "nbformat": 4,
 "nbformat_minor": 5
}
